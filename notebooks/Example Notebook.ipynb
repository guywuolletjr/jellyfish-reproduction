{
 "cells": [
  {
   "cell_type": "markdown",
   "metadata": {},
   "source": [
    "## Graphing in notebooks w/ matplotlib"
   ]
  },
  {
   "cell_type": "code",
   "execution_count": null,
   "metadata": {},
   "outputs": [],
   "source": [
    "import matplotlib.pyplot as plt\n",
    "import numpy as np\n",
    "from matplotlib import style\n",
    "plt.plot([0,2],[2,4])\n",
    "plt.axis(xmin=0,xmax=2,ymin=0,ymax=4)\n",
    "plt.title(\"You can graph things inline!\")\n",
    "plt.xlabel(\"x axis\")\n",
    "plt.ylabel(\"y axis\")\n",
    "plt.show() # this is not necessary for notebooks, but is when you run the python script"
   ]
  },
  {
   "cell_type": "markdown",
   "metadata": {},
   "source": [
    "## Drawing graphs\n",
    "networkx is integrated with matplotlib, so you can draw graphs in notebooks"
   ]
  },
  {
   "cell_type": "code",
   "execution_count": null,
   "metadata": {},
   "outputs": [],
   "source": [
    "import jellyfish.graphs as graphs\n",
    "import matplotlib.pyplot as plt\n",
    "import networkx as nx\n",
    "from matplotlib import style\n",
    "import numpy as np"
   ]
  },
  {
   "cell_type": "code",
   "execution_count": null,
   "metadata": {},
   "outputs": [],
   "source": [
    "# This is a handy thing to use if you're making changes to a source file\n",
    "import importlib\n",
    "importlib.reload(graphs)\n",
    "\n",
    "G = graphs.complete(10)\n",
    "nx.draw(G)\n",
    "\n",
    "# networkx uses matplotlib to draw things, \n",
    "# so you can save the image like this\n",
    "plt.savefig(\"../figures/complete_graph.png\")\n",
    "\n",
    "plt.show()"
   ]
  },
  {
   "cell_type": "code",
   "execution_count": null,
   "metadata": {},
   "outputs": [],
   "source": [
    "# here's what a fat tree looks like\n",
    "G = graphs.fat_tree(4)\n",
    "nx.draw(G)\n",
    "plt.savefig(\"../figures/figure_1a.png\")\n",
    "plt.show()"
   ]
  },
  {
   "cell_type": "code",
   "execution_count": null,
   "metadata": {},
   "outputs": [],
   "source": [
    "G = graphs.jellyfish(20, 4, 1)\n",
    "pos = nx.spring_layout(G)\n",
    "switches = [node for node in G.nodes() if \"switch\" in node]\n",
    "hosts = [node for node in G.nodes() if \"host\" in node]\n",
    "nx.draw_networkx_nodes(G, pos, nodelist=switches, node_color='b')\n",
    "nx.draw_networkx_nodes(G, pos, nodelist=hosts, node_color='r')\n",
    "nx.draw_networkx_edges(G, pos)"
   ]
  },
  {
   "cell_type": "code",
   "execution_count": null,
   "metadata": {},
   "outputs": [],
   "source": [
    "for switch in switches: \n",
    "    print(\"{} connected to: {}\".format(switch, G.adj[switch]))"
   ]
  },
  {
   "cell_type": "code",
   "execution_count": null,
   "metadata": {},
   "outputs": [],
   "source": [
    "for host in hosts: \n",
    "    print(\"{} connected to: {}\".format(host, G.adj[host]))"
   ]
  },
  {
   "cell_type": "code",
   "execution_count": null,
   "metadata": {},
   "outputs": [],
   "source": [
    "import importlib\n",
    "importlib.reload(graphs)"
   ]
  },
  {
   "cell_type": "code",
   "execution_count": null,
   "metadata": {},
   "outputs": [],
   "source": [
    "G = graphs.jellyfish(16,4,1)"
   ]
  },
  {
   "cell_type": "code",
   "execution_count": null,
   "metadata": {},
   "outputs": [],
   "source": [
    "import importlib\n",
    "importlib.reload(graphs)"
   ]
  },
  {
   "cell_type": "code",
   "execution_count": null,
   "metadata": {},
   "outputs": [],
   "source": [
    "#this part is for 1c \n",
    "# k = 14, k-r = 3, total servers = 245\n",
    "fg = graphs.fat_tree(14)\n",
    "jg = graphs.jellyfish(98, 14, 7)\n",
    "\n",
    "jg_switches = [node[0] for node in list(jg.nodes(data=True)) if node[1]['type'] == 'switch']\n",
    "jg_hosts = [node[0] for node in list(jg.nodes(data=True)) if node[1]['type'] == 'host']\n",
    "\n",
    "jg_shortest_paths = []\n",
    "\n",
    "for jg_src_host in jg_hosts: \n",
    "    for jg_dst_host in jg_hosts: \n",
    "        if jg_src_host == jg_dst_host: \n",
    "            continue \n",
    "        else: \n",
    "            jg_shortest_paths.append(nx.shortest_path_length(jg, jg_src_host, jg_dst_host))\n",
    "\n",
    "print(len(jg_shortest_paths))\n",
    "\n",
    "fg_switches = []\n",
    "for node in list(fg.nodes(data=True)):\n",
    "    if node[1]['type'] == 'switch': \n",
    "        fg_switches.append(node[0])\n",
    "\n",
    "fg_hosts = []\n",
    "for node in list(fg.nodes(data=True)):\n",
    "    if node[1]['type'] == 'host': \n",
    "        fg_hosts.append(node[0])\n",
    "\n",
    "fg_shortest_paths = []\n",
    "\n",
    "for fg_src_host in fg_hosts: \n",
    "    for fg_dst_host in fg_hosts: \n",
    "        if fg_src_host == fg_dst_host: \n",
    "            continue \n",
    "        else: \n",
    "            fg_shortest_paths.append(nx.shortest_path_length(fg, fg_src_host, fg_dst_host))\n",
    "            \n",
    "print(len(fg_shortest_paths))\n",
    "\n",
    "fg_frequencies = [fg_shortest_paths.count(i)/len(fg_shortest_paths) for i in range(2,7,1)]\n",
    "print(fg_frequencies)\n",
    "\n",
    "jg_frequencies = [jg_shortest_paths.count(i)/len(jg_shortest_paths) for i in range(2,7,1)]\n",
    "print(jg_frequencies)\n",
    "\n",
    "style.use('seaborn')\n",
    "# inspired from https://matplotlib.org/examples/api/barchart_demo.html \n",
    "# and https://matplotlib.org/gallery/lines_bars_and_markers/barchart.html#sphx-glr-gallery-lines-bars-and-markers-barchart-py\n",
    "\n",
    "labels = ['2', '3', '4', '5', '6']\n",
    "n = np.arange(len(labels))\n",
    "width = 0.35\n",
    "\n",
    "fig, ax = plt.subplots()\n",
    "bars_fg = ax.bar(n + width/2, fg_frequencies, width=0.35, label=\"Fat Tree\", color='red')\n",
    "bars_jg = ax.bar(n - width/2, jg_frequencies, width=0.35, label=\"Jellyfish\", color='blue')\n",
    "ax.set_xlabel(\"Path Length\")\n",
    "ax.set_ylabel(\"Fraction of Server Pairs\")\n",
    "ax.set_xticks(n)\n",
    "ax.set_yticks(np.arange(10)/10)\n",
    "ax.set_xticklabels(labels)\n",
    "ax.legend( (bars_fg[0], bars_jg[0]), (\"Fat Tree\", \"Jellyfish\"))\n",
    "plt.show()"
   ]
  },
  {
   "cell_type": "code",
   "execution_count": null,
   "metadata": {},
   "outputs": [],
   "source": [
    "def approx_bb(N, k, kind='fat_tree'):\n",
    "    num_switches = Ny \n",
    "    degree = k \n",
    "    \n",
    "    if(kind == 'fat_tree'):         \n",
    "        total_hosts = (k**3)/4 #this is not varied for fat tree topology in the paper\n",
    "        bisection_bandwidth = (k**3)/8 \n",
    "        \n",
    "        # assume all links have same line rate\n",
    "        host_to_switch_bandwidth_per_bisection = total_hosts/2\n",
    "        \n",
    "        # we calculatre normalized bisection bandwidth as \n",
    "        # the number of links crossing the bisection divided by \n",
    "        # the number of links between servers and switches in one \n",
    "        # network partition. \n",
    "        # Inspired by: https://piazza.com/class/k7m53jbmw0n6qf?cid=63\n",
    "        normalized_bb = bisection_bandwidth / host_to_switch_bandwidth_per_bisection\n",
    "        return ([total_hosts/1000], [normalized_bb])\n",
    "    \n",
    "    if(kind == 'jellyfish'): \n",
    "        # we hold the number of switches constant\n",
    "        # and vary the number of edges used for switch-switch\n",
    "        # links and the number of edges used for switch-host \n",
    "        # links by changes num_hosts parameter \n",
    "        hosts = []\n",
    "        normalized_bbs = []\n",
    "        for num_hosts in range(1, k,): \n",
    "            r = k - num_hosts # k - (k - r) = r \n",
    "            \n",
    "            # |S| = N/2 in the case of a bisection \n",
    "            delta_s = (1 - np.sqrt(np.log(2)/r)) * (r/2) * (N/2)\n",
    "            \n",
    "            # in expectation (N/2) switches are in a bisection partition \n",
    "            switch_to_host_links_in_partition = (N/2)*num_hosts\n",
    "            \n",
    "            normalized_bb = delta_s / switch_to_host_links_in_partition\n",
    "            total_hosts = num_hosts * N\n",
    "            \n",
    "            hosts.append(total_hosts/1000)\n",
    "            normalized_bbs.append(normalized_bb)\n",
    "            \n",
    "        return (hosts, normalized_bbs)"
   ]
  },
  {
   "cell_type": "code",
   "execution_count": null,
   "metadata": {},
   "outputs": [],
   "source": [
    "style.use('seaborn')\n",
    "\n",
    "jelly_720_24 = approx_bb(720, 24, kind = 'jellyfish')\n",
    "jelly_1280_32 =approx_bb(1280, 32, kind = 'jellyfish')\n",
    "jelly_2880_48 =approx_bb(2880, 48, kind = 'jellyfish')\n",
    "fat_720_24 = approx_bb(720, 24, kind = 'fat_tree')\n",
    "fat_1280_32 = approx_bb(1280, 32, kind = 'fat_tree')\n",
    "fat_2880_48 = approx_bb(2880, 48, kind = 'fat_tree')\n",
    "\n",
    "\n",
    "fig, ax = plt.subplots()\n",
    "jelly_720_24_plot = ax.plot(jelly_720_24[0], jelly_720_24[1], label = \"Jellyfish, N=720, k=24\", color='purple', marker='^')\n",
    "jelly_1280_32_plot = ax.plot(jelly_1280_32[0], jelly_1280_32[1], label = \"Jellyfish, N=1280, k=32\", color='limegreen', marker ='o')\n",
    "jelly_2880_48_plot = ax.plot(jelly_2880_48[0], jelly_2880_48[1], label = \"Jellyfish, N=2880, k=48\", color='blue', marker = 's')\n",
    "fat_720_24_plot = ax.scatter(fat_720_24[0], fat_720_24[1], label = \"Fat Tree, N=720, k=24\", color='black', marker='^', s=300)\n",
    "fat_1280_32_plot = ax.scatter(fat_1280_32[0], fat_1280_32[1], label = \"Fat Tree, N=1280, k=32\", color='green', marker='o', s=300)\n",
    "fat_2880_48_plot = ax.scatter(fat_2880_48[0], fat_2880_48[1], label = \"Fat Tree, N=2880, k=48\", color='red', marker='s', s=300)\n",
    "\n",
    "ax.set_xlabel(\"Number of Servers in Thousands\")\n",
    "ax.set_ylabel(\"Normalized Bisection Bandwidth\")\n",
    "ax.set_xticks(np.arange(9)*10)\n",
    "ax.set_yticks(np.arange(start=0.2, stop=1.8, step=0.2))\n",
    "ax.set_xlim([0,80])\n",
    "ax.set_ylim([0.2,1.6])\n",
    "ax.legend(labelspacing = 1.25, frameon=True)\n",
    "plt.show()"
   ]
  },
  {
   "cell_type": "code",
   "execution_count": null,
   "metadata": {},
   "outputs": [],
   "source": [
    "def approx_num_servers(k, kind):\n",
    "    if kind == 'fat_tree': \n",
    "        \n",
    "        num_hosts = []\n",
    "        num_ports = []\n",
    "        \n",
    "        for k in [24,32,48,64]:\n",
    "            # https://packetpushers.net/demystifying-dcn-topologies-clos-fat-trees-part2/\n",
    "            hosts = (k**3)/4\n",
    "            switches = 5*((k/2)**2)\n",
    "            ports = k * switches\n",
    "            num_hosts.append(hosts/1000)\n",
    "            num_ports.append(ports/1000)\n",
    "        return (num_hosts, num_ports)\n",
    "        \n",
    "    if kind == 'jellyfish': \n",
    "        \n",
    "        # search for lowest r value that fulfills bisection bandwidth such that r > 3\n",
    "        r = 3\n",
    "        while True: \n",
    "            # (delta_s)/((N/2) * (k-r)) = (1 - np.sqrt(np.log(2)/r)) * (r/2) * (N/2) = 1\n",
    "            val = ((1 - np.sqrt(np.log(2)/r)) * (r/2))/(k-r)\n",
    "            if val >= 1: \n",
    "                break\n",
    "            else: \n",
    "                r += 1 \n",
    "                \n",
    "        num_hosts = []\n",
    "        num_ports = []\n",
    "        \n",
    "        for hosts in range(8, 80000, 8): \n",
    "            switches = hosts/(k-r)\n",
    "            ports = switches * k \n",
    "            num_hosts.append(hosts/1000)\n",
    "            num_ports.append(ports/1000)\n",
    "        return (num_hosts, num_ports)\n",
    "            \n",
    "        "
   ]
  },
  {
   "cell_type": "code",
   "execution_count": null,
   "metadata": {},
   "outputs": [],
   "source": [
    "style.use('seaborn')\n",
    "fat_tree = approx_num_servers(0, \"fat_tree\")\n",
    "jelly_24 = approx_num_servers(24, \"jellyfish\")\n",
    "jelly_32 = approx_num_servers(32, \"jellyfish\")\n",
    "jelly_48 = approx_num_servers(48, \"jellyfish\")\n",
    "jelly_64 = approx_num_servers(64, \"jellyfish\")\n",
    "\n",
    "fig, ax = plt.subplots()\n",
    "fat_tree_plot = ax.scatter(fat_tree[0], fat_tree[1], label = \"Fat-tree; {23, 32, 48, 64} ports\", color='red', marker='o')\n",
    "jelly_24_plot = ax.plot(jelly_24[0], jelly_24[1], label = \"Jellyfish; 24 ports\", color='purple', lw = 0.5)\n",
    "jelly_32_plot = ax.plot(jelly_32[0], jelly_32[1], label = \"Jellyfish; 32 ports\", color='green', lw = 4)\n",
    "jelly_48_plot = ax.plot(jelly_48[0], jelly_48[1], label = \"Jellyfish; 48 ports\", color='blue', ls = \":\", lw = 2)\n",
    "jelly_64_plot = ax.plot(jelly_64[0], jelly_64[1], label = \"Jellyfish; 64 ports\", color='gold', lw = 3)\n",
    "\n",
    "ax.set_xlabel(\"Number of Servers in Thousands\")\n",
    "ax.set_ylabel(\"Equipment Cost [#Ports in Thousands]\")\n",
    "ax.set_xticks(np.arange(8)*10)\n",
    "ax.set_yticks(np.arange(start=0, stop=450, step=50))\n",
    "ax.set_xlim([0,80])\n",
    "ax.set_ylim([0, 400])\n",
    "ax.legend(labelspacing = 1.25, frameon=True)\n",
    "plt.show()"
   ]
  },
  {
   "cell_type": "code",
   "execution_count": null,
   "metadata": {},
   "outputs": [],
   "source": [
    "#figure 9 "
   ]
  },
  {
   "cell_type": "code",
   "execution_count": null,
   "metadata": {},
   "outputs": [],
   "source": [
    "G = graphs.jellyfish(98, 14, 7)"
   ]
  },
  {
   "cell_type": "code",
   "execution_count": null,
   "metadata": {},
   "outputs": [],
   "source": [
    "def linkrank(n, degree, num_hosts):\n",
    "    G = graphs.jellyfish(n, degree, num_hosts)\n",
    "    import random\n",
    "    import copy \n",
    "\n",
    "    random.seed(42)\n",
    "\n",
    "    #randomly permute hosts into two groups and compare by index for efficiency \n",
    "    hosts = [node[0] for node in list(G.nodes(data=True)) if node[1]['type'] == 'host']\n",
    "    hosts_a = copy.deepcopy(hosts)\n",
    "    hosts_b = copy.deepcopy(hosts)\n",
    "    random.shuffle(hosts_a)\n",
    "    random.shuffle(hosts_b)\n",
    "\n",
    "    ecmp8_edge_count = {}\n",
    "    ecmp64_edge_count = {}\n",
    "    k_shortest8_edge_count = {}\n",
    "\n",
    "    def increment_path(path, edge_tup_to_count):\n",
    "        for i in range(len(path)-1):\n",
    "            tup = (path[i], path[i+1]) \n",
    "            if tup in edge_tup_to_count: \n",
    "                val = edge_tup_to_count[tup]\n",
    "                val += 1 \n",
    "                edge_tup_to_count[tup] = val \n",
    "            else: \n",
    "                edge_tup_to_count[tup] = 1\n",
    "\n",
    "    for i in range(len(hosts)):\n",
    "        src = hosts_a[i]\n",
    "        dst = hosts_b[i]\n",
    "        if src == dst: \n",
    "            continue\n",
    "\n",
    "        paths = nx.algorithms.shortest_paths.generic.all_shortest_paths(G, src, dst)\n",
    "        path_list = list(paths)\n",
    "\n",
    "        if len(path_list) > 0:\n",
    "            path = random.choice(path_list[:8])\n",
    "            increment_path(path, ecmp8_edge_count)\n",
    "\n",
    "            path = random.choice(path_list[:64])\n",
    "            increment_path(path, ecmp64_edge_count)\n",
    "\n",
    "        for path in path_list[:8]:\n",
    "            increment_path(path, k_shortest8_edge_count)\n",
    "\n",
    "    ecmp8_list = list(ecmp8_edge_count.values())\n",
    "    ecmp64_list = list(ecmp64_edge_count.values())\n",
    "    k_shortest8_list = list(k_shortest8_edge_count.values())\n",
    "\n",
    "    # we must represent every link that was never used during the simulation \n",
    "    num_links = nx.number_of_edges(G)*2\n",
    "    if len(ecmp8_list) < num_links: \n",
    "        for i in range(num_links - len(ecmp8_list)):\n",
    "            ecmp8_list.append(0)\n",
    "    if len(ecmp64_list) < num_links: \n",
    "        for i in range(num_links - len(ecmp64_list)):\n",
    "            ecmp64_list.append(0)\n",
    "    if len(k_shortest8_list) < num_links: \n",
    "        for i in range(num_links - len(k_shortest8_list)):\n",
    "            k_shortest8_list.append(0)\n",
    "\n",
    "    ecmp8_list = sorted(ecmp8_list)\n",
    "    ecmp64_list = sorted(ecmp64_list)\n",
    "    k_shortest8_list = sorted(k_shortest8_list)\n",
    "    \n",
    "    style.use('seaborn')\n",
    "\n",
    "    x = np.arange(len(ecmp8_list))\n",
    "\n",
    "    fig, ax = plt.subplots()\n",
    "    ecmp8_plot = ax.plot(x, ecmp8_list, label = \"8-way ECMP\", color='green')\n",
    "    ecmp64_plot = ax.plot(x, ecmp64_list, label = \"64-way ECMP\", color='red')\n",
    "    k_shortest8_plot = ax.plot(x, k_shortest8_list, label = \"8 Shortest Paths\", color='blue', lw = 3)\n",
    "\n",
    "    ax.set_xlabel(\"Rank of Link\")\n",
    "    ax.set_ylabel(\"# Distinct Paths Link is on\")\n",
    "    ax.set_xticks(np.arange(6)*500)\n",
    "    ax.set_yticks(np.arange(start=0, stop=20, step=2))\n",
    "    ax.set_xlim([0,3000])\n",
    "    ax.set_ylim([0,18])\n",
    "    ax.legend(labelspacing = 1.25, frameon=True)\n",
    "    plt.show()\n"
   ]
  },
  {
   "cell_type": "code",
   "execution_count": null,
   "metadata": {},
   "outputs": [],
   "source": [
    "linkrank(98, 14, 7)"
   ]
  },
  {
   "cell_type": "code",
   "execution_count": null,
   "metadata": {},
   "outputs": [],
   "source": [
    "import random\n",
    "import copy \n",
    "\n",
    "random.seed(42)\n",
    "\n",
    "#randomly permute hosts into two groups and compare by index for efficiency \n",
    "hosts = [node[0] for node in list(G.nodes(data=True)) if node[1]['type'] == 'host']\n",
    "hosts_a = copy.deepcopy(hosts)\n",
    "hosts_b = copy.deepcopy(hosts)\n",
    "random.shuffle(hosts_a)\n",
    "random.shuffle(hosts_b)\n",
    "\n",
    "ecmp8_edge_count = {}\n",
    "ecmp64_edge_count = {}\n",
    "k_shortest8_edge_count = {}\n",
    "\n",
    "def increment_path(path, edge_tup_to_count):\n",
    "    for i in range(len(path)-1):\n",
    "        tup = (path[i], path[i+1]) \n",
    "        if tup in edge_tup_to_count: \n",
    "            val = edge_tup_to_count[tup]\n",
    "            val += 1 \n",
    "            edge_tup_to_count[tup] = val \n",
    "        else: \n",
    "            edge_tup_to_count[tup] = 1\n",
    "\n",
    "for i in range(len(hosts)):\n",
    "    src = hosts_a[i]\n",
    "    dst = hosts_b[i]\n",
    "    if src == dst: \n",
    "        continue\n",
    "        \n",
    "    paths = nx.algorithms.shortest_paths.generic.all_shortest_paths(G, src, dst)\n",
    "    path_list = list(paths)\n",
    "\n",
    "    if len(path_list) > 0:\n",
    "        path = random.choice(path_list[:8])\n",
    "        increment_path(path, ecmp8_edge_count)\n",
    "\n",
    "        path = random.choice(path_list[:64])\n",
    "        increment_path(path, ecmp64_edge_count)\n",
    "\n",
    "    for path in path_list[:8]:\n",
    "        increment_path(path, k_shortest8_edge_count)\n",
    "        \n",
    "ecmp8_list = list(ecmp8_edge_count.values())\n",
    "ecmp64_list = list(ecmp64_edge_count.values())\n",
    "k_shortest8_list = list(k_shortest8_edge_count.values())\n",
    "\n",
    "# we must represent every link that was never used during the simulation \n",
    "num_links = nx.number_of_edges(G)*2\n",
    "if len(ecmp8_list) < num_links: \n",
    "    for i in range(num_links - len(ecmp8_list)):\n",
    "        ecmp8_list.append(0)\n",
    "if len(ecmp64_list) < num_links: \n",
    "    for i in range(num_links - len(ecmp64_list)):\n",
    "        ecmp64_list.append(0)\n",
    "if len(k_shortest8_list) < num_links: \n",
    "    for i in range(num_links - len(k_shortest8_list)):\n",
    "        k_shortest8_list.append(0)\n",
    "        \n",
    "ecmp8_list = sorted(ecmp8_list)\n",
    "ecmp64_list = sorted(ecmp64_list)\n",
    "k_shortest8_list = sorted(k_shortest8_list)"
   ]
  },
  {
   "cell_type": "code",
   "execution_count": null,
   "metadata": {},
   "outputs": [],
   "source": [
    "style.use('seaborn')\n",
    "\n",
    "x = np.arange(len(ecmp8_list))\n",
    "\n",
    "fig, ax = plt.subplots()\n",
    "ecmp8_plot = ax.plot(x, ecmp8_list, label = \"8-way ECMP\", color='green')\n",
    "ecmp64_plot = ax.plot(x, ecmp64_list, label = \"64-way ECMP\", color='red')\n",
    "k_shortest8_plot = ax.plot(x, k_shortest8_list, label = \"8 Shortest Paths\", color='blue', lw = 3)\n",
    "\n",
    "ax.set_xlabel(\"Rank of Link\")\n",
    "ax.set_ylabel(\"# Distinct Paths Link is on\")\n",
    "ax.set_xticks(np.arange(6)*500)\n",
    "ax.set_yticks(np.arange(start=0, stop=20, step=2))\n",
    "ax.set_xlim([0,3000])\n",
    "ax.set_ylim([0,18])\n",
    "ax.legend(labelspacing = 1.25, frameon=True)\n",
    "plt.show()"
   ]
  },
  {
   "cell_type": "code",
   "execution_count": null,
   "metadata": {},
   "outputs": [],
   "source": [
    "G = graphs.jellyfish(98,14,7)"
   ]
  },
  {
   "cell_type": "code",
   "execution_count": null,
   "metadata": {},
   "outputs": [],
   "source": [
    "list(G.edges())"
   ]
  },
  {
   "cell_type": "code",
   "execution_count": null,
   "metadata": {},
   "outputs": [],
   "source": [
    "G = graphs.jellyfish()"
   ]
  },
  {
   "cell_type": "code",
   "execution_count": null,
   "metadata": {},
   "outputs": [],
   "source": [
    "from jellyfish import mininet"
   ]
  },
  {
   "cell_type": "code",
   "execution_count": null,
   "metadata": {},
   "outputs": [],
   "source": [
    "a = mininet.graph_to_topo(graphs.jellyfish(20,4,1))"
   ]
  },
  {
   "cell_type": "code",
   "execution_count": null,
   "metadata": {},
   "outputs": [],
   "source": [
    "print(type(a))"
   ]
  },
  {
   "cell_type": "code",
   "execution_count": null,
   "metadata": {},
   "outputs": [],
   "source": [
    "mininet.make_mininet(graphs.jellyfish(20,4,1))"
   ]
  },
  {
   "cell_type": "code",
   "execution_count": null,
   "metadata": {},
   "outputs": [],
   "source": [
    "import matplotlib.pyplot as plt\n",
    "import jellyfish.graphs as graphs\n",
    "import networkx as nx\n",
    "import numpy as np\n",
    "from matplotlib import style\n",
    "import random\n",
    "import os\n",
    "import sys\n",
    "import shutil\n",
    "import jellyfish\n",
    "\n",
    "import mininet\n",
    "import mininet.clean\n",
    "from mininet.net import Mininet\n",
    "from mininet.cli import CLI\n",
    "from mininet.log import lg, info\n",
    "from mininet.link import TCLink, Link, TCIntf\n",
    "from mininet.node import Node, OVSKernelSwitch, RemoteController\n",
    "from mininet.topo import Topo\n",
    "from mininet.util import waitListening,custom\n",
    "import math"
   ]
  },
  {
   "cell_type": "code",
   "execution_count": null,
   "metadata": {},
   "outputs": [],
   "source": [
    "#1c mininet "
   ]
  },
  {
   "cell_type": "code",
   "execution_count": null,
   "metadata": {},
   "outputs": [],
   "source": [
    "jelly_ping_vals = [77.153, 24.453999999999997, 76.317, 54.486, 23.165000000000003, 26.871, 56.580999999999996, 34.138, 26.098, 121.74399999999999, 37.488, 48.149, 75.61, 17.433, 37.829, 31.264, 96.92, 170.554, 44.127, 97.516, 120.23, 33.105, 29.923, 96.544, 34.601, 137.638, 106.437, 33.763, 23.223, 121.65500000000002, 80.163, 28.320000000000004, 65.573, 82.975, 44.228, 49.556999999999995, 40.388, 38.577, 25.586, 30.331, 68.112, 11.906, 17.847, 40.405, 90.731, 67.026, 39.603, 26.916, 157.795, 42.842000000000006, 37.43, 51.893, 46.37199999999999, 83.199, 116.447, 62.978, 33.306, 18.341, 42.439, 35.291, 71.157, 75.663, 30.366, 94.927, 90.509, 71.244, 39.395, 30.694, 22.763, 86.127, 29.286, 11.217999999999998, 43.080000000000005, 38.329, 72.673, 79.308, 21.532, 59.058, 44.317, 41.971, 38.199, 27.316999999999997, 28.755, 9.964, 16.998, 42.655, 9.307, 45.781, 43.1, 41.843, 110.2, 37.022, 45.798, 61.405, 59.338, 75.215, 100.88600000000001, 16.334, 23.115, 34.733, 12.484, 64.053, 39.555, 17.291, 86.149, 64.153, 53.119, 54.98, 44.839, 58.84, 98.163, 61.183, 44.183, 20.629, 62.517, 61.076, 9.914, 43.185, 49.422, 86.26100000000001, 52.44899999999999, 76.363, 60.794000000000004, 36.268, 42.679, 20.983, 7.905, 30.925, 26.209999999999997, 65.125, 45.455000000000005, 27.176, 32.761, 44.25, 29.004, 48.865, 44.489, 65.544, 118.46499999999999, 22.467, 11.42, 20.769, 25.425, 36.906, 25.321, 19.122, 26.491, 32.422, 18.17, 28.852999999999998, 25.098, 48.796, 92.11, 35.003, 26.993, 21.802000000000003, 32.784, 68.982, 24.888, 35.699, 44.262, 33.459, 23.774999999999995, 14.672000000000002, 20.638, 41.394, 74.813, 23.0, 14.31, 10.896, 23.565, 72.451, 23.899, 27.201000000000004, 35.249, 30.719000000000005, 22.916, 12.283, 10.553, 31.735, 66.661, 42.989, 33.28, 14.421, 49.435, 17.388, 10.534, 49.707, 47.749, 14.569, 41.35, 22.611, 16.482, 13.744, 46.104000000000006, 62.363, 53.66299999999999, 31.790000000000003, 66.837, 27.945000000000004, 12.437, 48.431999999999995, 58.592000000000006, 22.761, 41.34, 38.742, 37.976, 37.035, 15.967999999999998]\n",
    "#jelly_ping_vals_b = [2140.663, 40.452, 64.207, 74.843, 76.661, 21.548999999999996, 46.669000000000004, 55.258, 61.667, 43.48499999999999, 54.151, 36.756, 50.36600000000001, 59.409, 30.307, 44.014, 85.142, 59.609, 75.511, 144.221, 48.008, 211.891, 33.42, 25.258, 84.742, 29.576000000000004, 54.483, 51.058, 15.627, 18.094, 87.442, 63.17600000000001, 54.204, 19.094, 32.133, 42.863, 39.498, 24.556, 25.588000000000005, 14.684, 19.243, 34.206, 49.344, 23.887, 22.935999999999996, 78.813, 50.737, 55.816, 55.351, 41.206, 55.364, 45.57, 28.407, 35.64, 55.463, 29.929, 32.259, 21.56, 17.106, 50.389, 35.63, 70.569, 85.474, 29.435999999999996, 82.415, 44.638, 39.503, 35.076, 65.848, 35.877, 20.857, 23.828, 22.42, 52.705999999999996, 13.069, 80.003, 75.179, 29.133, 52.469, 44.453, 36.841, 55.233, 46.222, 33.978, 9.092, 30.866, 12.661, 54.095, 37.904, 35.741, 28.45, 116.955, 49.07500000000001, 112.07, 41.825, 30.589, 30.838000000000005, 68.888, 16.293, 26.749, 12.632, 44.685, 32.521, 39.686, 12.142000000000001, 61.92600000000001, 66.646, 52.282000000000004, 59.85999999999999, 50.91400000000001, 44.728, 44.927, 20.04, 19.277, 19.404, 67.141, 11.793, 10.522, 25.346, 39.879, 61.582, 37.234, 18.298, 32.059, 45.30100000000001, 27.267, 38.522, 13.708999999999998, 18.61, 55.080999999999996, 36.686, 27.507, 27.812, 34.8, 34.911, 24.471, 47.779, 33.861, 60.149, 53.943999999999996, 27.356000000000005, 10.105, 16.481, 37.841, 23.778000000000002, 20.31, 23.782, 28.350000000000005, 21.346999999999998, 9.337, 34.776, 23.052000000000003, 39.544, 54.002, 33.754, 26.820000000000004, 22.665000000000003, 35.298, 16.44, 17.368, 18.748, 21.624, 10.296, 22.261, 17.829, 25.947, 43.476, 18.361, 20.798, 15.424, 10.395, 37.448, 24.871, 20.021, 18.097, 16.965, 14.035000000000002, 32.045, 24.477999999999998, 17.366, 33.859, 46.117, 19.854, 26.006, 10.776000000000002, 56.043, 38.459, 32.877, 14.901000000000002, 18.643, 29.244, 31.131, 26.137, 27.372, 16.793, 62.023, 37.756, 32.961, 20.393, 13.488, 18.11, 18.114, 18.657, 23.504, 12.175000000000002, 23.996, 16.796, 9.914, 18.964, 26.753]\n",
    "fat_ping_vals = [48.209, 27.024999999999995, 32.892, 51.214, 44.328, 40.539, 49.10999999999999, 44.769, 42.278, 54.977, 49.334, 53.21, 52.16, 54.770999999999994, 16.077, 32.133, 28.667999999999996, 62.281, 46.043, 47.579, 58.352, 47.347, 46.278, 41.48, 46.519, 45.096, 47.773, 57.94, 57.83599999999999, 15.564, 18.714, 9.256, 74.347, 74.653, 80.419, 64.45, 47.818000000000005, 43.306999999999995, 70.066, 51.97, 62.37, 69.011, 55.704, 55.055, 14.619, 13.836999999999998, 9.062, 141.364, 59.232, 54.657999999999994, 64.493, 48.286, 51.567, 56.446, 60.849, 58.763, 54.342999999999996, 61.978, 103.88, 41.53, 32.264, 50.623, 30.532, 9.667, 44.154, 30.631, 78.181, 94.51, 85.092, 72.229, 37.743, 39.831, 49.918, 56.18699999999999, 23.712, 26.443, 48.166, 49.458, 3.9, 40.963, 30.036, 156.629, 167.248, 105.972, 86.20300000000002, 57.589, 117.021, 43.296, 44.689, 26.661999999999995, 76.221, 32.102, 36.326, 17.766, 16.6, 13.316, 195.764, 100.68599999999999, 193.071, 99.23200000000001, 146.201, 62.792, 85.182, 122.661, 36.888, 24.713000000000005, 222.667, 124.615, 71.096, 28.171000000000003, 10.413, 478.75, 346.88899999999995, 316.163, 247.929, 103.476, 116.445, 87.36899999999999, 97.568, 81.912, 47.507, 26.318, 33.112, 177.02699999999996, 106.27500000000002, 104.286, 64.043, 15.21, 62.314, 63.216, 150.312, 156.323, 139.309, 194.58, 59.69899999999999, 41.995, 37.221, 31.682, 63.471, 72.327, 72.478, 62.392, 5.813, 56.625, 55.144, 130.945, 168.303, 112.455, 123.544, 32.816, 34.09, 29.939000000000004, 28.064000000000004, 58.132, 67.571, 44.431000000000004, 52.669000000000004, 19.547, 22.693, 18.181, 173.11, 102.01299999999999, 90.221, 99.98200000000001, 38.567, 28.145, 26.375, 26.404, 43.386, 46.169999999999995, 41.356, 49.333, 13.716, 18.002, 7.766000000000001, 89.017, 123.466, 109.625, 112.359, 30.362, 29.396, 36.506, 100.08300000000001, 38.611, 29.385, 28.991, 29.471, 44.957, 49.524, 55.729000000000006, 48.488, 19.251, 38.459, 42.51, 32.917, 28.369, 48.47299999999999, 39.197, 30.689000000000004, 29.458, 28.028000000000002, 25.621, 51.693000000000005, 54.092000000000006, 49.257, 52.315, 5.2, 45.576, 33.575, 74.692, 27.343, 40.257, 41.505, 29.146, 25.396, 34.74, 26.754, 56.333, 51.931999999999995, 43.37199999999999, 52.144, 24.26, 17.833, 18.696, 31.046000000000003, 24.518999999999995, 36.906, 34.621, 33.949, 46.13399999999999, 42.66, 29.618, 54.617, 50.157999999999994, 55.74699999999999, 60.696, 23.389, 25.956, 6.773]\n",
    "\n",
    "\n",
    "\n",
    "\n"
   ]
  },
  {
   "cell_type": "code",
   "execution_count": null,
   "metadata": {},
   "outputs": [],
   "source": [
    "# norm_a = a / np.sqrt(np.sum(a**2))\n",
    "# norm_b = np.ceil(a/min(a))\n",
    "# norm_a * 10\n",
    "def norm_pings(pings):\n",
    "    np_pings = np.array(pings)\n",
    "    norm_pings = np_pings/np.min(np_pings)\n",
    "    norm_pings = np.ceil(norm_pings)\n",
    "    norm_pings = norm_pings.astype(int)\n",
    "    norm_pings = list(norm_pings)\n",
    "    return norm_pings \n",
    "\n",
    "jelly_norm_pings = norm_pings(jelly_ping_vals)\n",
    "fat_norm_pings = norm_pings(fat_ping_vals)"
   ]
  },
  {
   "cell_type": "code",
   "execution_count": null,
   "metadata": {},
   "outputs": [],
   "source": [
    "length = max(max(jelly_norm_pings), max(fat_norm_pings))\n",
    "if length > 20: \n",
    "    length = 20\n",
    "\n",
    "jelly_ping_freq = [jelly_norm_pings.count(i)/len(jelly_norm_pings) for i in range(length)]\n",
    "fat_ping_freq = [fat_norm_pings.count(i)/len(fat_norm_pings) for i in range(length)]"
   ]
  },
  {
   "cell_type": "code",
   "execution_count": null,
   "metadata": {},
   "outputs": [],
   "source": []
  },
  {
   "cell_type": "code",
   "execution_count": null,
   "metadata": {},
   "outputs": [],
   "source": [
    "style.use('seaborn')\n",
    "# inspired from https://matplotlib.org/examples/api/barchart_demo.html\n",
    "# and https://matplotlib.org/gallery/lines_bars_and_markers/barchart.html#sphx-glr-gallery-lines-bars-and-markers-barchart-py\n",
    "\n",
    "labels = [str(i) for i in range(length)]\n",
    "n = np.arange(len(labels))\n",
    "width = 0.35\n",
    "\n",
    "fig, ax = plt.subplots()\n",
    "bars_jelly = ax.bar(n - width/2, jelly_ping_freq, width=0.35, label=\"Jellyfish\", color='blue')\n",
    "bars_fat = ax.bar(n + width/2, fat_ping_freq, width=0.35, label=\"Fat Tree\", color='red')\n",
    "ax.set_xlabel(\"Path Length\")\n",
    "ax.set_ylabel(\"Fraction of Server Pairs\")\n",
    "ax.set_xticks(n)\n",
    "ax.set_yticks(np.arange(10)/10)\n",
    "ax.set_xticklabels(labels)\n",
    "ax.legend()\n",
    "plt.show()"
   ]
  },
  {
   "cell_type": "code",
   "execution_count": 1,
   "metadata": {},
   "outputs": [],
   "source": [
    "import matplotlib.pyplot as plt\n",
    "import jellyfish.graphs as graphs\n",
    "import networkx as nx\n",
    "import numpy as np\n",
    "from matplotlib import style\n",
    "import random\n",
    "import os\n",
    "import sys\n",
    "import shutil\n",
    "import jellyfish\n",
    "\n",
    "import mininet\n",
    "import mininet.clean\n",
    "from mininet.net import Mininet\n",
    "from mininet.cli import CLI\n",
    "from mininet.log import lg, info\n",
    "from mininet.link import TCLink, Link, TCIntf\n",
    "from mininet.node import Node, OVSKernelSwitch, RemoteController\n",
    "from mininet.topo import Topo\n",
    "from mininet.util import waitListening,custom\n",
    "import math\n",
    "import re\n"
   ]
  },
  {
   "cell_type": "code",
   "execution_count": 2,
   "metadata": {},
   "outputs": [],
   "source": [
    "#table 1"
   ]
  },
  {
   "cell_type": "code",
   "execution_count": 3,
   "metadata": {},
   "outputs": [
    {
     "data": {
      "text/plain": [
       "'/vagrant/notebooks'"
      ]
     },
     "execution_count": 3,
     "metadata": {},
     "output_type": "execute_result"
    }
   ],
   "source": [
    "os.getcwd()"
   ]
  },
  {
   "cell_type": "code",
   "execution_count": 4,
   "metadata": {},
   "outputs": [
    {
     "data": {
      "text/plain": [
       "[9.46, 10.7, 9.92, 9.61, 9.26, 10.1, 7.74, 8.94, 6.63, 9.54, 9.4, 10.2]"
      ]
     },
     "execution_count": 4,
     "metadata": {},
     "output_type": "execute_result"
    }
   ],
   "source": [
    "mininet_results_dir = '/vagrant/mininet_results'\n",
    "bandwidths = []\n",
    "\n",
    "for file in os.listdir(mininet_results_dir):\n",
    "    f = open(mininet_results_dir + '/' + file, 'r')\n",
    "    for line in f: \n",
    "        data = f.read()\n",
    "        if 'Mbits/sec' in data.split():\n",
    "            index = data.split().index('Mbits/sec')\n",
    "            num = float(data.split()[index-1])\n",
    "            bandwidths.append(num)\n",
    "bandwidths"
   ]
  },
  {
   "cell_type": "code",
   "execution_count": 11,
   "metadata": {},
   "outputs": [
    {
     "data": {
      "text/plain": [
       "0.286788386498175"
      ]
     },
     "execution_count": 11,
     "metadata": {},
     "output_type": "execute_result"
    }
   ],
   "source": [
    "np_bandwidth = np.array(bandwidths)\n",
    "norm_bd = np_bandwidth / np.sqrt(np.sum(np_bandwidth**2))\n",
    "norm_avg_bd = np.mean(norm_bd)\n",
    "norm_avg_bd"
   ]
  },
  {
   "cell_type": "code",
   "execution_count": 9,
   "metadata": {},
   "outputs": [
    {
     "data": {
      "text/plain": [
       "9.291666666666666"
      ]
     },
     "execution_count": 9,
     "metadata": {},
     "output_type": "execute_result"
    }
   ],
   "source": [
    "norm_avg_bd = sum(bandwidths)/len(bandwidths)\n",
    "norm_avg_bd"
   ]
  },
  {
   "cell_type": "code",
   "execution_count": null,
   "metadata": {},
   "outputs": [],
   "source": []
  }
 ],
 "metadata": {
  "kernelspec": {
   "display_name": "Python 3",
   "language": "python",
   "name": "python3"
  },
  "language_info": {
   "codemirror_mode": {
    "name": "ipython",
    "version": 3
   },
   "file_extension": ".py",
   "mimetype": "text/x-python",
   "name": "python",
   "nbconvert_exporter": "python",
   "pygments_lexer": "ipython3",
   "version": "3.6.9"
  }
 },
 "nbformat": 4,
 "nbformat_minor": 4
}
